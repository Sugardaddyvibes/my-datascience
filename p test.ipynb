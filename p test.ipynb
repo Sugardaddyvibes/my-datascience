{
 "cells": [
  {
   "cell_type": "code",
   "execution_count": null,
   "id": "edd08539",
   "metadata": {},
   "outputs": [],
   "source": [
    "import numpy as np\n",
    "import pandas as pd\n"
   ]
  },
  {
   "cell_type": "markdown",
   "id": "ee8987ce",
   "metadata": {},
   "source": [
    "# t-test for ne sample"
   ]
  },
  {
   "cell_type": "code",
   "execution_count": 2,
   "id": "e95b7d93",
   "metadata": {},
   "outputs": [],
   "source": [
    "ages = [10,20,30,40,35,16,78,34,20,35,60,50,75,80,60,50,65,78,90,40,50,67,56,78,34,18,45,47,16,18]"
   ]
  },
  {
   "cell_type": "code",
   "execution_count": 3,
   "id": "77a43cc8",
   "metadata": {},
   "outputs": [
    {
     "data": {
      "text/plain": [
       "30"
      ]
     },
     "execution_count": 3,
     "metadata": {},
     "output_type": "execute_result"
    }
   ],
   "source": [
    "len(ages)"
   ]
  },
  {
   "cell_type": "code",
   "execution_count": 4,
   "id": "7fd6968b",
   "metadata": {},
   "outputs": [
    {
     "data": {
      "text/plain": [
       "46.5"
      ]
     },
     "execution_count": 4,
     "metadata": {},
     "output_type": "execute_result"
    }
   ],
   "source": [
    "np.mean(ages)"
   ]
  },
  {
   "cell_type": "code",
   "execution_count": 5,
   "id": "92169af0",
   "metadata": {},
   "outputs": [],
   "source": [
    "age_sample= np.random.choice(ages,10)"
   ]
  },
  {
   "cell_type": "code",
   "execution_count": 6,
   "id": "1fc614a2",
   "metadata": {},
   "outputs": [
    {
     "data": {
      "text/plain": [
       "array([40, 18, 78, 45, 40, 20, 67, 78, 60, 30])"
      ]
     },
     "execution_count": 6,
     "metadata": {},
     "output_type": "execute_result"
    }
   ],
   "source": [
    "age_sample"
   ]
  },
  {
   "cell_type": "code",
   "execution_count": 7,
   "id": "72a54d32",
   "metadata": {},
   "outputs": [],
   "source": [
    "from scipy.stats import ttest_1samp"
   ]
  },
  {
   "cell_type": "code",
   "execution_count": 8,
   "id": "1ddb24e8",
   "metadata": {},
   "outputs": [],
   "source": [
    "t_test,p_values = ttest_1samp(age_sample,46.5)"
   ]
  },
  {
   "cell_type": "code",
   "execution_count": 9,
   "id": "5039610c",
   "metadata": {},
   "outputs": [
    {
     "name": "stdout",
     "output_type": "stream",
     "text": [
      "0.8791214833546621\n"
     ]
    }
   ],
   "source": [
    "print(p_values)"
   ]
  },
  {
   "cell_type": "code",
   "execution_count": 10,
   "id": "a0be08c1",
   "metadata": {},
   "outputs": [
    {
     "name": "stdout",
     "output_type": "stream",
     "text": [
      "0.15646313356881283\n"
     ]
    }
   ],
   "source": [
    "print(t_test)"
   ]
  },
  {
   "cell_type": "markdown",
   "id": "145351f9",
   "metadata": {},
   "source": [
    "# more examples on one sample"
   ]
  },
  {
   "cell_type": "code",
   "execution_count": 11,
   "id": "bb1394bc",
   "metadata": {},
   "outputs": [],
   "source": [
    "import  scipy.stats as stats \n"
   ]
  },
  {
   "cell_type": "code",
   "execution_count": 21,
   "id": "9bd3180c",
   "metadata": {},
   "outputs": [],
   "source": [
    "np.random.seed(6)\n",
    "school_ages = stats.poisson.rvs(loc=18,mu=35,size=1500)\n",
    "classA_ages = stats.poisson.rvs(loc=18,mu=30,size=60)"
   ]
  },
  {
   "cell_type": "code",
   "execution_count": 22,
   "id": "99d2b20e",
   "metadata": {},
   "outputs": [
    {
     "data": {
      "text/plain": [
       "array([62, 59, 44, ..., 45, 52, 50])"
      ]
     },
     "execution_count": 22,
     "metadata": {},
     "output_type": "execute_result"
    }
   ],
   "source": [
    "school_ages"
   ]
  },
  {
   "cell_type": "code",
   "execution_count": 23,
   "id": "d61d1982",
   "metadata": {},
   "outputs": [
    {
     "data": {
      "text/plain": [
       "array([52, 46, 40, 40, 47, 50, 51, 45, 44, 52, 46, 53, 43, 44, 51, 50, 54,\n",
       "       42, 54, 45, 61, 53, 49, 46, 47, 41, 45, 51, 43, 45, 48, 50, 40, 52,\n",
       "       44, 55, 54, 40, 45, 46, 54, 42, 46, 35, 51, 51, 46, 48, 47, 35, 52,\n",
       "       52, 39, 44, 48, 40, 42, 46, 47, 45])"
      ]
     },
     "execution_count": 23,
     "metadata": {},
     "output_type": "execute_result"
    }
   ],
   "source": [
    "classA_ages"
   ]
  },
  {
   "cell_type": "code",
   "execution_count": 25,
   "id": "2674824f",
   "metadata": {},
   "outputs": [],
   "source": [
    "from scipy.stats import ttest_1samp \n",
    "_,p_value = ttest_1samp(classA_ages,school_ages.mean())"
   ]
  },
  {
   "cell_type": "code",
   "execution_count": 26,
   "id": "f715baa0",
   "metadata": {},
   "outputs": [
    {
     "data": {
      "text/plain": [
       "1.139027071016194e-13"
      ]
     },
     "execution_count": 26,
     "metadata": {},
     "output_type": "execute_result"
    }
   ],
   "source": [
    "p_value"
   ]
  },
  {
   "cell_type": "code",
   "execution_count": 27,
   "id": "b6b83768",
   "metadata": {},
   "outputs": [
    {
     "name": "stdout",
     "output_type": "stream",
     "text": [
      "we rejest our null hypothesis\n"
     ]
    }
   ],
   "source": [
    "if p_value<0.05:\n",
    "    print(\"we rejest our null hypothesis\")\n",
    "else:\n",
    "    print(\"we accept our null hypothesis\")"
   ]
  },
  {
   "cell_type": "markdown",
   "id": "247a7c8a",
   "metadata": {},
   "source": [
    "# TWO SAMPLE T-TEST"
   ]
  },
  {
   "cell_type": "code",
   "execution_count": 28,
   "id": "192aed3a",
   "metadata": {},
   "outputs": [],
   "source": [
    "np.random.seed(12)\n",
    "classb_ages = stats.poisson.rvs(loc=18,mu=33,size=60)"
   ]
  },
  {
   "cell_type": "code",
   "execution_count": 30,
   "id": "92c1935c",
   "metadata": {},
   "outputs": [],
   "source": [
    "_,p_value = stats.ttest_ind(classA_ages,classb_ages,equal_var=False)"
   ]
  },
  {
   "cell_type": "code",
   "execution_count": 31,
   "id": "af9f93b7",
   "metadata": {},
   "outputs": [
    {
     "data": {
      "text/plain": [
       "0.00039942095100859375"
      ]
     },
     "execution_count": 31,
     "metadata": {},
     "output_type": "execute_result"
    }
   ],
   "source": [
    "p_value"
   ]
  },
  {
   "cell_type": "code",
   "execution_count": 32,
   "id": "fcc430ed",
   "metadata": {},
   "outputs": [
    {
     "name": "stdout",
     "output_type": "stream",
     "text": [
      "we rejest our null hypothesis\n"
     ]
    }
   ],
   "source": [
    "if p_value<0.05:\n",
    "    print(\"we rejest our null hypothesis\")\n",
    "else:\n",
    "    print(\"we accept our null hypothesis\")"
   ]
  },
  {
   "cell_type": "markdown",
   "id": "6e91943d",
   "metadata": {},
   "source": [
    "# PAIRED SAMPLE T-TEST"
   ]
  },
  {
   "cell_type": "code",
   "execution_count": 37,
   "id": "bf664268",
   "metadata": {},
   "outputs": [],
   "source": [
    "weight1 = [25,30,28,35,28,34,26,29,30,26,28,32,31,30,45]\n",
    "weight2 = weight1 + stats.norm.rvs(scale=5,loc=1.25,size=15)"
   ]
  },
  {
   "cell_type": "code",
   "execution_count": 40,
   "id": "11802e68",
   "metadata": {},
   "outputs": [],
   "source": [
    "weight =pd.DataFrame({\"weight1\":np.array(weight1),\"weight2\":np.array(weight2),\n",
    "                     \"weight_change\":np.array(weight1)-np.array(weight2)})"
   ]
  },
  {
   "cell_type": "code",
   "execution_count": 41,
   "id": "e8408381",
   "metadata": {},
   "outputs": [
    {
     "data": {
      "text/html": [
       "<div>\n",
       "<style scoped>\n",
       "    .dataframe tbody tr th:only-of-type {\n",
       "        vertical-align: middle;\n",
       "    }\n",
       "\n",
       "    .dataframe tbody tr th {\n",
       "        vertical-align: top;\n",
       "    }\n",
       "\n",
       "    .dataframe thead th {\n",
       "        text-align: right;\n",
       "    }\n",
       "</style>\n",
       "<table border=\"1\" class=\"dataframe\">\n",
       "  <thead>\n",
       "    <tr style=\"text-align: right;\">\n",
       "      <th></th>\n",
       "      <th>weight1</th>\n",
       "      <th>weight2</th>\n",
       "      <th>weight_change</th>\n",
       "    </tr>\n",
       "  </thead>\n",
       "  <tbody>\n",
       "    <tr>\n",
       "      <th>0</th>\n",
       "      <td>25</td>\n",
       "      <td>18.684564</td>\n",
       "      <td>6.315436</td>\n",
       "    </tr>\n",
       "    <tr>\n",
       "      <th>1</th>\n",
       "      <td>30</td>\n",
       "      <td>27.432348</td>\n",
       "      <td>2.567652</td>\n",
       "    </tr>\n",
       "    <tr>\n",
       "      <th>2</th>\n",
       "      <td>28</td>\n",
       "      <td>30.496016</td>\n",
       "      <td>-2.496016</td>\n",
       "    </tr>\n",
       "    <tr>\n",
       "      <th>3</th>\n",
       "      <td>35</td>\n",
       "      <td>28.300957</td>\n",
       "      <td>6.699043</td>\n",
       "    </tr>\n",
       "    <tr>\n",
       "      <th>4</th>\n",
       "      <td>28</td>\n",
       "      <td>24.352370</td>\n",
       "      <td>3.647630</td>\n",
       "    </tr>\n",
       "    <tr>\n",
       "      <th>5</th>\n",
       "      <td>34</td>\n",
       "      <td>35.863808</td>\n",
       "      <td>-1.863808</td>\n",
       "    </tr>\n",
       "    <tr>\n",
       "      <th>6</th>\n",
       "      <td>26</td>\n",
       "      <td>35.696460</td>\n",
       "      <td>-9.696460</td>\n",
       "    </tr>\n",
       "    <tr>\n",
       "      <th>7</th>\n",
       "      <td>29</td>\n",
       "      <td>31.138749</td>\n",
       "      <td>-2.138749</td>\n",
       "    </tr>\n",
       "    <tr>\n",
       "      <th>8</th>\n",
       "      <td>30</td>\n",
       "      <td>31.410030</td>\n",
       "      <td>-1.410030</td>\n",
       "    </tr>\n",
       "    <tr>\n",
       "      <th>9</th>\n",
       "      <td>26</td>\n",
       "      <td>36.916078</td>\n",
       "      <td>-10.916078</td>\n",
       "    </tr>\n",
       "    <tr>\n",
       "      <th>10</th>\n",
       "      <td>28</td>\n",
       "      <td>23.939526</td>\n",
       "      <td>4.060474</td>\n",
       "    </tr>\n",
       "    <tr>\n",
       "      <th>11</th>\n",
       "      <td>32</td>\n",
       "      <td>29.586855</td>\n",
       "      <td>2.413145</td>\n",
       "    </tr>\n",
       "    <tr>\n",
       "      <th>12</th>\n",
       "      <td>31</td>\n",
       "      <td>36.463707</td>\n",
       "      <td>-5.463707</td>\n",
       "    </tr>\n",
       "    <tr>\n",
       "      <th>13</th>\n",
       "      <td>30</td>\n",
       "      <td>36.633700</td>\n",
       "      <td>-6.633700</td>\n",
       "    </tr>\n",
       "    <tr>\n",
       "      <th>14</th>\n",
       "      <td>45</td>\n",
       "      <td>48.538453</td>\n",
       "      <td>-3.538453</td>\n",
       "    </tr>\n",
       "  </tbody>\n",
       "</table>\n",
       "</div>"
      ],
      "text/plain": [
       "    weight1    weight2  weight_change\n",
       "0        25  18.684564       6.315436\n",
       "1        30  27.432348       2.567652\n",
       "2        28  30.496016      -2.496016\n",
       "3        35  28.300957       6.699043\n",
       "4        28  24.352370       3.647630\n",
       "5        34  35.863808      -1.863808\n",
       "6        26  35.696460      -9.696460\n",
       "7        29  31.138749      -2.138749\n",
       "8        30  31.410030      -1.410030\n",
       "9        26  36.916078     -10.916078\n",
       "10       28  23.939526       4.060474\n",
       "11       32  29.586855       2.413145\n",
       "12       31  36.463707      -5.463707\n",
       "13       30  36.633700      -6.633700\n",
       "14       45  48.538453      -3.538453"
      ]
     },
     "execution_count": 41,
     "metadata": {},
     "output_type": "execute_result"
    }
   ],
   "source": [
    "weight"
   ]
  },
  {
   "cell_type": "code",
   "execution_count": 42,
   "id": "8ad29fae",
   "metadata": {},
   "outputs": [],
   "source": [
    "_,p_value = stats.ttest_rel(weight1,weight2)"
   ]
  },
  {
   "cell_type": "code",
   "execution_count": 43,
   "id": "0b695b5e",
   "metadata": {},
   "outputs": [
    {
     "data": {
      "text/plain": [
       "0.39907052675466614"
      ]
     },
     "execution_count": 43,
     "metadata": {},
     "output_type": "execute_result"
    }
   ],
   "source": [
    "p_value"
   ]
  },
  {
   "cell_type": "code",
   "execution_count": 44,
   "id": "7202991b",
   "metadata": {},
   "outputs": [
    {
     "name": "stdout",
     "output_type": "stream",
     "text": [
      "we accept our null hypothesis\n"
     ]
    }
   ],
   "source": [
    "if p_value<0.05:\n",
    "    print(\"we rejest our null hypothesis\")\n",
    "else:\n",
    "    print(\"we accept our null hypothesis\")"
   ]
  },
  {
   "cell_type": "code",
   "execution_count": null,
   "id": "33e3fa43",
   "metadata": {},
   "outputs": [],
   "source": []
  },
  {
   "cell_type": "code",
   "execution_count": null,
   "id": "ed62acc7",
   "metadata": {},
   "outputs": [],
   "source": []
  }
 ],
 "metadata": {
  "kernelspec": {
   "display_name": "Python 3",
   "language": "python",
   "name": "python3"
  },
  "language_info": {
   "codemirror_mode": {
    "name": "ipython",
    "version": 3
   },
   "file_extension": ".py",
   "mimetype": "text/x-python",
   "name": "python",
   "nbconvert_exporter": "python",
   "pygments_lexer": "ipython3",
   "version": "3.8.8"
  }
 },
 "nbformat": 4,
 "nbformat_minor": 5
}
